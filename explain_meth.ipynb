{
 "cells": [
  {
   "cell_type": "markdown",
   "id": "b1060af2",
   "metadata": {},
   "source": [
    "\n",
    "**Figure:** modified LTC neuron (Hasani et al.).  \n",
    "**Legend:** `x(t)` = input. `h(t)` = hidden state (feedback via `z^{-1}`).  \n",
    "`τ(x,h)` = adaptive time constant = `softplus(W_{τx}x + W_{τh}h + b_τ) + ε`.  \n",
    "`g(x,h)` = gate = `sigmoid(W_{gx}x + W_{gh}h + b_g)`.  \n",
    "`A` = learned attractor. Core dynamics:  \n",
    "$$\\dot h = -h/\\tau(x,h) + g(x,h)(A-h)$$. Discrete update: $$h_{t+1}=h_t + dt\\dot h$$.\n"
   ]
  }
 ],
 "metadata": {
  "kernelspec": {
   "display_name": "qiskit",
   "language": "python",
   "name": "python3"
  },
  "language_info": {
   "name": "python",
   "version": "3.12.3"
  }
 },
 "nbformat": 4,
 "nbformat_minor": 5
}
