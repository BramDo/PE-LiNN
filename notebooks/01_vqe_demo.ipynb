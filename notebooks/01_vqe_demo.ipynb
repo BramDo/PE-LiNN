{
 "cells": [
  {
   "cell_type": "markdown",
   "id": "02158b60",
   "metadata": {},
   "source": [
    "# 01 - VQE Demo (Aer, synthetic Hamiltonian)"
   ]
  },
  {
   "cell_type": "code",
   "execution_count": 1,
   "id": "63088073",
   "metadata": {},
   "outputs": [
    {
     "data": {
      "text/plain": [
       "(array([6.12909777, 6.00895079]), -1.6611328124999998)"
      ]
     },
     "execution_count": 1,
     "metadata": {},
     "output_type": "execute_result"
    }
   ],
   "source": [
    "\n",
    "from qiskit import QuantumCircuit\n",
    "from qiskit.quantum_info import SparsePauliOp\n",
    "from qiskit_aer.primitives import Estimator\n",
    "import numpy as np\n",
    "\n",
    "a,b,c,d = -1.05, -1.05, 0.39, 0.0\n",
    "H = a*SparsePauliOp.from_list([(\"ZI\",1.0)])   + b*SparsePauliOp.from_list([(\"IZ\",1.0)])   + c*SparsePauliOp.from_list([(\"ZZ\",1.0)])   + d*SparsePauliOp.from_list([(\"XI\",1.0)])\n",
    "\n",
    "def ansatz(theta):\n",
    "    qc = QuantumCircuit(2)\n",
    "    qc.ry(theta[0], 0); qc.ry(theta[1], 1); qc.cx(0,1)\n",
    "    return qc\n",
    "\n",
    "est = Estimator()\n",
    "\n",
    "def energy(theta):\n",
    "    return float(est.run(ansatz(theta), H).result().values[0])\n",
    "\n",
    "thetas = np.random.uniform(0, 2*np.pi, size=(50,2))\n",
    "vals = np.array([energy(t) for t in thetas])\n",
    "best = thetas[vals.argmin()], vals.min()\n",
    "best\n"
   ]
  }
 ],
 "metadata": {
  "kernelspec": {
   "display_name": "qiskit (3.12.3)",
   "language": "python",
   "name": "python3"
  },
  "language_info": {
   "codemirror_mode": {
    "name": "ipython",
    "version": 3
   },
   "file_extension": ".py",
   "mimetype": "text/x-python",
   "name": "python",
   "nbconvert_exporter": "python",
   "pygments_lexer": "ipython3",
   "version": "3.12.3"
  }
 },
 "nbformat": 4,
 "nbformat_minor": 5
}
