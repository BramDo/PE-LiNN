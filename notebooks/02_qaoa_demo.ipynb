{
 "cells": [
  {
   "cell_type": "markdown",
   "id": "4fc9db84",
   "metadata": {},
   "source": [
    "# 02 - QAOA Demo (MaxCut, tiny graph)"
   ]
  },
  {
   "cell_type": "code",
   "execution_count": 1,
   "id": "38dedf23",
   "metadata": {},
   "outputs": [
    {
     "data": {
      "text/plain": [
       "((0.7853981633974483, 0.7853981633974483), 0.0)"
      ]
     },
     "execution_count": 1,
     "metadata": {},
     "output_type": "execute_result"
    }
   ],
   "source": [
    "\n",
    "from qiskit import QuantumCircuit\n",
    "from qiskit.quantum_info import SparsePauliOp\n",
    "from qiskit_aer.primitives import Estimator\n",
    "import numpy as np\n",
    "\n",
    "edges = [(0,1),(1,2),(2,0)]\n",
    "n=3\n",
    "H = SparsePauliOp.from_list([(\"III\",0.0)])\n",
    "for (i,j) in edges:\n",
    "    s = [\"I\"]*n; s[i] = \"Z\"; s[j] = \"Z\"\n",
    "    H += 0.5*SparsePauliOp.from_list([(\"\".join(s), -1.0)])\n",
    "H += 0.5*len(edges)*SparsePauliOp.from_list([(\"I\"*n, 1.0)])\n",
    "\n",
    "def qaoa_circuit(gamma, beta):\n",
    "    qc = QuantumCircuit(n)\n",
    "    for q in range(n): qc.h(q)\n",
    "    for (i,j) in edges:\n",
    "        qc.cx(i,j); qc.rz(2*gamma, j); qc.cx(i,j)\n",
    "    for q in range(n): qc.rx(2*beta, q)\n",
    "    return qc\n",
    "\n",
    "est = Estimator()\n",
    "\n",
    "def exp_cost(gamma, beta):\n",
    "    return float(est.run(qaoa_circuit(gamma, beta), H).result().values[0])\n",
    "\n",
    "grid = np.linspace(0, np.pi, 21)\n",
    "best_val, best_params = 1e9, None\n",
    "for g in grid:\n",
    "    for b in grid:\n",
    "        val = exp_cost(g,b)\n",
    "        if val < best_val:\n",
    "            best_val, best_params = val, (g,b)\n",
    "best_params, best_val\n"
   ]
  }
 ],
 "metadata": {
  "kernelspec": {
   "display_name": "qiskit (3.12.3)",
   "language": "python",
   "name": "python3"
  },
  "language_info": {
   "codemirror_mode": {
    "name": "ipython",
    "version": 3
   },
   "file_extension": ".py",
   "mimetype": "text/x-python",
   "name": "python",
   "nbconvert_exporter": "python",
   "pygments_lexer": "ipython3",
   "version": "3.12.3"
  }
 },
 "nbformat": 4,
 "nbformat_minor": 5
}
